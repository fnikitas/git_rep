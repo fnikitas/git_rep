{
  "nbformat": 4,
  "nbformat_minor": 0,
  "metadata": {
    "colab": {
      "provenance": [],
      "authorship_tag": "ABX9TyNTc3rBG2NBwvZhQMFfcza/",
      "include_colab_link": true
    },
    "kernelspec": {
      "name": "python3",
      "display_name": "Python 3"
    },
    "language_info": {
      "name": "python"
    }
  },
  "cells": [
    {
      "cell_type": "markdown",
      "metadata": {
        "id": "view-in-github",
        "colab_type": "text"
      },
      "source": [
        "<a href=\"https://colab.research.google.com/github/fnikitas/git_rep/blob/dev/DZ3.ipynb\" target=\"_parent\"><img src=\"https://colab.research.google.com/assets/colab-badge.svg\" alt=\"Open In Colab\"/></a>"
      ]
    },
    {
      "cell_type": "code",
      "source": [
        "\n",
        "items = { \"milk15\":{\"name\": \"молоко 1.5%\", \"count\": 34, \"price\": 89.9}, \"cheese\":{\"name\": \"сыр молочный 1 кг\", \"count\": 12, \"price\": 990.9}, \"sausage\":{\"name\": \"колбаса 1 кг\", \"count\": 122, \"price\": 1990.9} }\n",
        "\n",
        "price_less_20 = {key: \"false\" if result[\"count\"] > 20 else \"true\" for key, result in items.items()}\n",
        "print(price_less_20)\n",
        "\n",
        "#for key, result in items.items():\n",
        "#if result[\"count\"] > 20:\n",
        "#price_less_20[key] = \"false\"\n",
        "#else:\n",
        "#price_less_20[key] = \"true\"\n",
        "#price_less_20"
      ],
      "metadata": {
        "colab": {
          "base_uri": "https://localhost:8080/"
        },
        "id": "D0tR7UKg4Yrs",
        "outputId": "ff7b9663-d54c-4163-e77a-871cd8f6214c"
      },
      "execution_count": 22,
      "outputs": [
        {
          "output_type": "stream",
          "name": "stdout",
          "text": [
            "{'milk15': 'false', 'cheese': 'true', 'sausage': 'false'}\n"
          ]
        }
      ]
    }
  ]
}