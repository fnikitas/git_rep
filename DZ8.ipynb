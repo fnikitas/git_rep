{
  "nbformat": 4,
  "nbformat_minor": 0,
  "metadata": {
    "colab": {
      "provenance": [],
      "authorship_tag": "ABX9TyNUVKc0aHsbF8j6YhNd4Tes",
      "include_colab_link": true
    },
    "kernelspec": {
      "name": "python3",
      "display_name": "Python 3"
    },
    "language_info": {
      "name": "python"
    }
  },
  "cells": [
    {
      "cell_type": "markdown",
      "metadata": {
        "id": "view-in-github",
        "colab_type": "text"
      },
      "source": [
        "<a href=\"https://colab.research.google.com/github/fnikitas/git_rep/blob/dev/DZ8.ipynb\" target=\"_parent\"><img src=\"https://colab.research.google.com/assets/colab-badge.svg\" alt=\"Open In Colab\"/></a>"
      ]
    },
    {
      "cell_type": "code",
      "execution_count": null,
      "metadata": {
        "id": "KEczFMp2Cuq3"
      },
      "outputs": [],
      "source": [
        "import csv\n",
        "def load_csv(file_path):\n",
        "    with open(file_path, 'r', encoding='utf-8') as file:\n",
        "        reader = csv.DictReader(file)\n",
        "        return list(reader)\n",
        "\n",
        "def transform_row(row):\n",
        "    gender_russian = 'женского' if row['sex'].lower() == 'female' else 'мужского'\n",
        "    device_russian = 'мобильного' if row['bill'].lower() == 'mobile' else 'десктопного'\n",
        "\n",
        "    return f\"Пользователь {row['name']} {gender_russian} пола, {row['age']} лет, совершил(а) покупку на {row['bill']} у.е. с {device_russian} браузера {row['browser']}. Регион, из которого совершалась покупка: {row['region']}.\"\n",
        "\n",
        "def write_to_txt(descriptions, output_file):\n",
        "    with open(output_file, 'w', encoding='utf-8') as file:\n",
        "        for description in descriptions:\n",
        "            file.write(description + '\\n')\n",
        "\n",
        "input_file = 'web_clients_correct.csv'\n",
        "output_file = \"untitled.txt\"\n",
        "try:\n",
        "    data = load_csv(input_file)\n",
        "except FileNotFoundError:\n",
        "    print(f\"Файл {input_file} не найден.\")\n",
        "    exit()\n",
        "\n",
        "descriptions = [transform_row(row) for row in data]\n",
        "\n",
        "if descriptions:\n",
        "    write_to_txt(descriptions, output_file)\n",
        "    print(f\"Данные успешно записаны в файл {output_file}.\")\n",
        "else:\n",
        "    print(\"Нет данных для записи.\")\n"
      ]
    }
  ]
}