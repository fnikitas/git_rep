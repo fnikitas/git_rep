{
  "nbformat": 4,
  "nbformat_minor": 0,
  "metadata": {
    "colab": {
      "provenance": [],
      "authorship_tag": "ABX9TyOFHgQJtybv0BHI1UcQ0HFu"
    },
    "kernelspec": {
      "name": "python3",
      "display_name": "Python 3"
    },
    "language_info": {
      "name": "python"
    }
  },
  "cells": [
    {
      "cell_type": "code",
      "execution_count": 10,
      "metadata": {
        "id": "0NCxByQa4KGA"
      },
      "outputs": [],
      "source": [
        "import json\n",
        "import yaml\n",
        "\n",
        "def read_json(file_path):\n",
        "    with open(file_path, 'r', encoding = 'utf8') as json_file:\n",
        "        data = json.load(json_file)\n",
        "    return data\n",
        "\n",
        "\n",
        "def convert_json_yaml(json_data):\n",
        "    return yaml.dump(json_data)\n",
        "json_data = read_json('dannie.json')\n",
        "yaml_data = convert_json_yaml(json_data)\n",
        "with open('data_from_json.yaml', 'w', encoding = 'Windows-1251') as yaml_file:\n",
        "    yaml_file.write(yaml_data)"
      ]
    }
  ]
}