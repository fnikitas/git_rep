{
  "nbformat": 4,
  "nbformat_minor": 0,
  "metadata": {
    "colab": {
      "provenance": [],
      "authorship_tag": "ABX9TyNUJ7hzNPq4kYOwa/04hjaI",
      "include_colab_link": true
    },
    "kernelspec": {
      "name": "python3",
      "display_name": "Python 3"
    },
    "language_info": {
      "name": "python"
    }
  },
  "cells": [
    {
      "cell_type": "markdown",
      "metadata": {
        "id": "view-in-github",
        "colab_type": "text"
      },
      "source": [
        "<a href=\"https://colab.research.google.com/github/fnikitas/git_rep/blob/prd/DZ1.ipynb\" target=\"_parent\"><img src=\"https://colab.research.google.com/assets/colab-badge.svg\" alt=\"Open In Colab\"/></a>"
      ]
    },
    {
      "cell_type": "code",
      "execution_count": 11,
      "metadata": {
        "colab": {
          "base_uri": "https://localhost:8080/"
        },
        "id": "W1hgEW5o9K9K",
        "outputId": "f473759f-23ad-452c-eec0-528d4c9a9204"
      },
      "outputs": [
        {
          "output_type": "stream",
          "name": "stdout",
          "text": [
            "Введите год: 2028\n",
            "Год високосный.\n"
          ]
        }
      ],
      "source": [
        "# Дана переменная, в которой хранится четырёхзначное число — год.\n",
        "#Необходимо написать программу, которая выведет, является этот год високосным или обычным.\n",
        "\n",
        "year = int(input('Введите год: '))\n",
        "if year % 4 !=0:\n",
        "  print (year,'Год не высокосный')\n",
        "elif year % 100 == 0:\n",
        "    if year % 400 == 0:\n",
        "        print('Год високосный')\n",
        "    else:\n",
        "        print('Год не високосный')\n",
        "else:\n",
        "    print('Год високосный')"
      ]
    },
    {
      "cell_type": "code",
      "source": [
        "# Дана переменная, в которой хранится шестизначное число — номер проездного билета.\n",
        "# Напишите программу, которая будет определять, является ли этот билет счастливым.\n",
        "# Билет считается счастливым, если сумма первых трёх цифр совпадает с суммой последних трёх цифр номера.\n",
        "\n",
        "tiket = int(input())\n",
        "if len(str(tiket)) == 6:\n",
        "  n = tiket//1000\n",
        "  odin = n//100\n",
        "  dva = n%11\n",
        "  tri = n%10\n",
        "  z = tiket%1000\n",
        "  chet = z//100\n",
        "  pyt = z%11\n",
        "  shest = z%10\n",
        "  if (odin+dva+tri)==(chet+pyt+shest):\n",
        "      print ('Счастливый билет')\n",
        "  else:\n",
        "    print ('Обычный билет')\n",
        "else:\n",
        "    print ('Обычный билет')"
      ],
      "metadata": {
        "colab": {
          "base_uri": "https://localhost:8080/"
        },
        "id": "_XaI3EUjmInO",
        "outputId": "b218f27d-1fe9-49ee-d5a3-41c9cb8a9147"
      },
      "execution_count": 48,
      "outputs": [
        {
          "output_type": "stream",
          "name": "stdout",
          "text": [
            "12345678\n",
            "Обычный билет\n"
          ]
        }
      ]
    }
  ]
}