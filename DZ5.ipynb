{
  "nbformat": 4,
  "nbformat_minor": 0,
  "metadata": {
    "colab": {
      "provenance": [],
      "authorship_tag": "ABX9TyON1YlpKdIHpIFCdir4TpNS",
      "include_colab_link": true
    },
    "kernelspec": {
      "name": "python3",
      "display_name": "Python 3"
    },
    "language_info": {
      "name": "python"
    }
  },
  "cells": [
    {
      "cell_type": "markdown",
      "metadata": {
        "id": "view-in-github",
        "colab_type": "text"
      },
      "source": [
        "<a href=\"https://colab.research.google.com/github/fnikitas/git_rep/blob/dev/DZ5.ipynb\" target=\"_parent\"><img src=\"https://colab.research.google.com/assets/colab-badge.svg\" alt=\"Open In Colab\"/></a>"
      ]
    },
    {
      "cell_type": "code",
      "source": [
        "from dateutil import parser\n",
        "\n",
        "def parse_date(date_str):\n",
        "    try:\n",
        "        return parser.parse(date_str)\n",
        "    except ValueError:\n",
        "        return None\n",
        "\n",
        "def main():\n",
        "    while True:\n",
        "        user_input = input(\"Введите дату (или введите 'exit' для завершения): \")\n",
        "\n",
        "        if user_input.lower() == 'exit':\n",
        "            break\n",
        "\n",
        "        try:\n",
        "            parsed_date = parse_date(user_input)\n",
        "            if parsed_date:\n",
        "                print(parsed_date)\n",
        "            else:\n",
        "                print(\"Неверный формат даты. Попробуйте снова.\")\n",
        "        except Exception as e:\n",
        "            print(f\"Ошибка: {e}\")\n",
        "\n",
        "if __name__ == \"__main__\":\n",
        "    main()\n"
      ],
      "metadata": {
        "colab": {
          "base_uri": "https://localhost:8080/"
        },
        "id": "0COKleuoY529",
        "outputId": "a52ed484-43aa-448e-bc24-979022b1bf3c"
      },
      "execution_count": null,
      "outputs": [
        {
          "name": "stdout",
          "output_type": "stream",
          "text": [
            "Введите дату (или введите 'exit' для завершения): 18 August 1977\n",
            "1977-08-18 00:00:00\n",
            "Введите дату (или введите 'exit' для завершения): 11.10.13\n",
            "2013-11-10 00:00:00\n",
            "Введите дату (или введите 'exit' для завершения): Wednesday, October 2, 2002\n",
            "2002-10-02 00:00:00\n",
            "Введите дату (или введите 'exit' для завершения): exit\n"
          ]
        }
      ]
    },
    {
      "cell_type": "code",
      "source": [],
      "metadata": {
        "id": "g6WipEwBWU5b"
      },
      "execution_count": null,
      "outputs": []
    }
  ]
}