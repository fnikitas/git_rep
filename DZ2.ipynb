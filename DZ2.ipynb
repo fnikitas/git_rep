{
  "nbformat": 4,
  "nbformat_minor": 0,
  "metadata": {
    "colab": {
      "provenance": [],
      "authorship_tag": "ABX9TyMlYYG2qWzoIoUN35L/Ix7N",
      "include_colab_link": true
    },
    "kernelspec": {
      "name": "python3",
      "display_name": "Python 3"
    },
    "language_info": {
      "name": "python"
    }
  },
  "cells": [
    {
      "cell_type": "markdown",
      "metadata": {
        "id": "view-in-github",
        "colab_type": "text"
      },
      "source": [
        "<a href=\"https://colab.research.google.com/github/fnikitas/git_rep/blob/dev/DZ2.ipynb\" target=\"_parent\"><img src=\"https://colab.research.google.com/assets/colab-badge.svg\" alt=\"Open In Colab\"/></a>"
      ]
    },
    {
      "cell_type": "code",
      "execution_count": 5,
      "metadata": {
        "colab": {
          "base_uri": "https://localhost:8080/"
        },
        "id": "3whW5WrnF5ou",
        "outputId": "1ffc72a8-1602-40da-c704-1dfc88627b73"
      },
      "outputs": [
        {
          "output_type": "stream",
          "name": "stdout",
          "text": [
            "s t\n"
          ]
        }
      ],
      "source": [
        "word = \"testtq\"\n",
        "size = len(word)\n",
        "if size%2 == 0:\n",
        " print(word[len(word) // 2 - 1],word[len(word) // 2])\n",
        "else:\n",
        " print(word[len(word) // 2])"
      ]
    },
    {
      "cell_type": "code",
      "source": [],
      "metadata": {
        "id": "ko0VWBAfbc1_"
      },
      "execution_count": null,
      "outputs": []
    }
  ]
}