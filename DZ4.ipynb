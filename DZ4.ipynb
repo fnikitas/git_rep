{
  "nbformat": 4,
  "nbformat_minor": 0,
  "metadata": {
    "colab": {
      "provenance": [],
      "authorship_tag": "ABX9TyMtYn9QpaBHv8H9jmsALx5c"
    },
    "kernelspec": {
      "name": "python3",
      "display_name": "Python 3"
    },
    "language_info": {
      "name": "python"
    }
  },
  "cells": [
    {
      "cell_type": "code",
      "source": [
        "documents = [\n",
        "    {'type': 'passport', 'number': '2207 876234', 'name': 'Василий Гупкин'},\n",
        "    {'type': 'invoice', 'number': '11-2', 'name': 'Геннадий Покемонов'},\n",
        "    {'type': 'insurance', 'number': '10006', 'name': 'Аристарх Павлов'}\n",
        "]\n",
        "\n",
        "directories = {\n",
        "    '1': ['2207 876234', '11-2'],\n",
        "    '2': ['10006'],\n",
        "    '3': []\n",
        "}\n",
        "\n",
        "def owner(documents, doc_number):\n",
        "    \"\"\"Функция поиска владельца документа по его номеру.\"\"\"\n",
        "    for document in documents:\n",
        "        if document['number'] == doc_number:\n",
        "            return document['name']\n",
        "    return None\n",
        "\n",
        "def shelf_doc(directories, doc_number):\n",
        "    \"\"\"Функция поиска полки по номеру документа.\"\"\"\n",
        "    for shelf, docs in directories.items():\n",
        "        if doc_number in docs:\n",
        "            return shelf\n",
        "    return None\n",
        "\n",
        "while True:\n",
        "    x = input(\"Введите букву: \")\n",
        "\n",
        "    if x == 'q':\n",
        "        break\n",
        "    elif x == 'p':\n",
        "        doc_number = input(\"Введите номер документа: \")\n",
        "        poisk = owner(documents, doc_number)\n",
        "        if poisk:\n",
        "            print(f\"Владелец документа: {poisk}\")\n",
        "        else:\n",
        "            print(\"Документ не найден.\")\n",
        "    elif x == 's':\n",
        "        doc_number = input(\"Введите номер документа: \")\n",
        "        shelf_docs = shelf_doc(directories, doc_number)\n",
        "        if shelf_docs:\n",
        "            print(f\"Документ хранится на полке: {shelf_docs}\")\n",
        "        else:\n",
        "            print(\"Документ не найден.\")\n"
      ],
      "metadata": {
        "id": "fwK-YpJdc0j4",
        "colab": {
          "base_uri": "https://localhost:8080/"
        },
        "outputId": "3a393242-3ef4-4fd6-a0cf-cde2d5bf1625"
      },
      "execution_count": 1,
      "outputs": [
        {
          "name": "stdout",
          "output_type": "stream",
          "text": [
            "Введите букву: q\n"
          ]
        }
      ]
    }
  ]
}