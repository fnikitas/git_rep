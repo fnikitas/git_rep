{
  "nbformat": 4,
  "nbformat_minor": 0,
  "metadata": {
    "colab": {
      "provenance": [],
      "authorship_tag": "ABX9TyOnhiGwE254KXqUlLkADWaR",
      "include_colab_link": true
    },
    "kernelspec": {
      "name": "python3",
      "display_name": "Python 3"
    },
    "language_info": {
      "name": "python"
    }
  },
  "cells": [
    {
      "cell_type": "markdown",
      "metadata": {
        "id": "view-in-github",
        "colab_type": "text"
      },
      "source": [
        "<a href=\"https://colab.research.google.com/github/fnikitas/git_rep/blob/dev/lab2.ipynb\" target=\"_parent\"><img src=\"https://colab.research.google.com/assets/colab-badge.svg\" alt=\"Open In Colab\"/></a>"
      ]
    },
    {
      "cell_type": "code",
      "source": [
        "# Инициализация списков для товаров и магазинов\n",
        "products = []\n",
        "stores = []\n",
        "\n",
        "# Инициализация словаря для хранения цен\n",
        "prices = {}\n",
        "\n",
        "# Заполнение списка товаров и магазинов\n",
        "while True:\n",
        "    product_name = input(\"Введите название товара (или 'q' для завершения): \")\n",
        "    if product_name == 'q':\n",
        "        break\n",
        "    products.append(product_name)\n",
        "\n",
        "while True:\n",
        "    store_name = input(\"Введите название магазина (или 'q' для завершения): \")\n",
        "    if store_name == 'q':\n",
        "        break\n",
        "    stores.append(store_name)\n",
        "\n",
        "# Заполнение словаря цен\n",
        "for product in products:\n",
        "    prices[product] = {}\n",
        "    for store in stores:\n",
        "        price = float(input(f\"Введите цену товара {product} в магазине {store}: \"))\n",
        "        prices[product][store] = price\n",
        "\n",
        "# Ввод количества товаров\n",
        "shopping_list = {}\n",
        "for product in products:\n",
        "    shopping_list[product] = int(input(f\"Введите количество {product}: \"))\n",
        "\n",
        "# Поиск наилучшей цены и магазина\n",
        "best_price = float('inf')  # Инициализируем максимальной ценой\n",
        "best_stores = []\n",
        "best_products = []\n",
        "\n",
        "for product in products:\n",
        "    for store in stores:\n",
        "        price = prices[product][store] * shopping_list[product]\n",
        "        if price < best_price:\n",
        "            best_price = price\n",
        "            best_stores = [store]\n",
        "            best_products = [product]\n",
        "        elif price == best_price:\n",
        "            best_stores.append(store)\n",
        "            best_products.append(product)\n",
        "\n",
        "# Вывод результата\n",
        "if best_stores:\n",
        "    for i in range(len(best_stores)):\n",
        "        store = best_stores[i]\n",
        "        product = best_products[i]\n",
        "        total_cost = prices[product][store] * shopping_list[product]\n",
        "        print(f\"Наиболее выгодно купить товар '{product}' в магазине '{store}' за {best_price} руб. Общая сумма покупки в этом магазине: {total_cost} руб.\")\n",
        "else:\n",
        "    print(\"Лучшая цена уже выбрана, вы не можете сэкономить больше.\")\n"
      ],
      "metadata": {
        "colab": {
          "base_uri": "https://localhost:8080/"
        },
        "id": "LZMQKOeERtHJ",
        "outputId": "a8673824-94b4-48af-ba84-18e8433988d9"
      },
      "execution_count": null,
      "outputs": [
        {
          "output_type": "stream",
          "name": "stdout",
          "text": [
            "Введите название товара (или 'q' для завершения): Блины\n",
            "Введите название товара (или 'q' для завершения): Хлеб\n",
            "Введите название товара (или 'q' для завершения): q\n",
            "Введите название магазина (или 'q' для завершения): Дикси\n",
            "Введите название магазина (или 'q' для завершения): Перекресток\n",
            "Введите название магазина (или 'q' для завершения): q\n",
            "Введите цену товара Блины в магазине Дикси: 110\n",
            "Введите цену товара Блины в магазине Перекресток: 120\n",
            "Введите цену товара Хлеб в магазине Дикси: 121\n",
            "Введите цену товара Хлеб в магазине Перекресток: 131\n",
            "Введите количество Блины: 2\n",
            "Введите количество Хлеб: 4\n",
            "Наиболее выгодно купить товар 'Блины' в магазине 'Дикси' за 220.0 руб. Общая сумма покупки в этом магазине: 220.0 руб.\n"
          ]
        }
      ]
    }
  ]
}